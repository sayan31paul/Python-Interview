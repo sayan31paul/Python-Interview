{
 "cells": [
  {
   "cell_type": "code",
   "execution_count": 10,
   "id": "d98226eb",
   "metadata": {},
   "outputs": [],
   "source": [
    "import sqlite3\n",
    "db=sqlite3.connect('student_database03.db')"
   ]
  },
  {
   "cell_type": "code",
   "execution_count": 11,
   "id": "b4e6217e",
   "metadata": {},
   "outputs": [],
   "source": [
    "cur=db.cursor()"
   ]
  },
  {
   "cell_type": "code",
   "execution_count": 14,
   "id": "4748db77",
   "metadata": {},
   "outputs": [
    {
     "data": {
      "text/plain": [
       "<sqlite3.Cursor at 0x22051767490>"
      ]
     },
     "execution_count": 14,
     "metadata": {},
     "output_type": "execute_result"
    }
   ],
   "source": [
    "cur.execute(\"create table student(id int primary key, name text, marks int)\") "
   ]
  },
  {
   "cell_type": "code",
   "execution_count": 15,
   "id": "a752d47a",
   "metadata": {},
   "outputs": [
    {
     "data": {
      "text/plain": [
       "<sqlite3.Cursor at 0x22051767490>"
      ]
     },
     "execution_count": 15,
     "metadata": {},
     "output_type": "execute_result"
    }
   ],
   "source": [
    "cur.execute(\"insert into student(id,name,marks) values(1,'John',90)\")\n",
    "cur.execute(\"insert into student(id,name,marks) values(2,'Teena',100)\")\n",
    "cur.execute(\"insert into student(id,name,marks) values(3,'Andrew',70)\")\n",
    "cur.execute(\"insert into student(id,name,marks) values(4,'Dorsey',56)\")\n",
    "cur.execute(\"insert into student(id,name,marks) values(5,'David',45)\")\n",
    "cur.execute(\"insert into student(id,name,marks) values(6,'Kim',70)\")\n",
    "cur.execute(\"insert into student values(7,'Gim',71)\")\n",
    "cur.execute(\"insert into student values(8,'Jack',94)\")"
   ]
  },
  {
   "cell_type": "code",
   "execution_count": 16,
   "id": "e95e5b04",
   "metadata": {},
   "outputs": [
    {
     "name": "stdout",
     "output_type": "stream",
     "text": [
      "(1, 'John', 90)\n",
      "(2, 'Teena', 100)\n",
      "(3, 'Andrew', 70)\n",
      "(4, 'Dorsey', 56)\n",
      "(5, 'David', 45)\n",
      "(6, 'Kim', 70)\n",
      "(7, 'Gim', 71)\n",
      "(8, 'Jack', 94)\n"
     ]
    }
   ],
   "source": [
    "results=cur.execute(\"select * from student\") # '*' selects all the columns\n",
    "\n",
    "for row in results:\n",
    "    print(row)"
   ]
  },
  {
   "cell_type": "markdown",
   "id": "8b712f57",
   "metadata": {},
   "source": [
    "UPDATE record"
   ]
  },
  {
   "cell_type": "code",
   "execution_count": null,
   "id": "badcc285",
   "metadata": {},
   "outputs": [],
   "source": [
    "#changes data in an already existing row."
   ]
  },
  {
   "cell_type": "code",
   "execution_count": 18,
   "id": "91bcb79e",
   "metadata": {},
   "outputs": [
    {
     "data": {
      "text/plain": [
       "<sqlite3.Cursor at 0x22051767490>"
      ]
     },
     "execution_count": 18,
     "metadata": {},
     "output_type": "execute_result"
    }
   ],
   "source": [
    "cur.execute(\"update student set marks=81 where id=4\") #student is the table name"
   ]
  },
  {
   "cell_type": "code",
   "execution_count": 19,
   "id": "8e4018c1",
   "metadata": {},
   "outputs": [
    {
     "name": "stdout",
     "output_type": "stream",
     "text": [
      "(1, 'John', 90)\n",
      "(2, 'Teena', 100)\n",
      "(3, 'Andrew', 70)\n",
      "(4, 'Dorsey', 81)\n",
      "(5, 'David', 45)\n",
      "(6, 'Kim', 70)\n",
      "(7, 'Gim', 71)\n",
      "(8, 'Jack', 94)\n"
     ]
    }
   ],
   "source": [
    "results=cur.execute(\"select * from student\") \n",
    "\n",
    "for row in results:\n",
    "    print(row)"
   ]
  },
  {
   "cell_type": "code",
   "execution_count": 20,
   "id": "bcadc40f",
   "metadata": {},
   "outputs": [],
   "source": [
    "#marks of dorsey has changed from 56 to 81 permanently."
   ]
  },
  {
   "cell_type": "code",
   "execution_count": 21,
   "id": "adf6d10e",
   "metadata": {},
   "outputs": [
    {
     "data": {
      "text/plain": [
       "<sqlite3.Cursor at 0x22051767490>"
      ]
     },
     "execution_count": 21,
     "metadata": {},
     "output_type": "execute_result"
    }
   ],
   "source": [
    "#multipe record update\n",
    "cur.execute(\"update student set marks=92 where id in(1,2)\")"
   ]
  },
  {
   "cell_type": "code",
   "execution_count": 22,
   "id": "1e7c4d18",
   "metadata": {},
   "outputs": [
    {
     "name": "stdout",
     "output_type": "stream",
     "text": [
      "(1, 'John', 92)\n",
      "(2, 'Teena', 92)\n",
      "(3, 'Andrew', 70)\n",
      "(4, 'Dorsey', 81)\n",
      "(5, 'David', 45)\n",
      "(6, 'Kim', 70)\n",
      "(7, 'Gim', 71)\n",
      "(8, 'Jack', 94)\n"
     ]
    }
   ],
   "source": [
    "results=cur.execute(\"select * from student\") \n",
    "\n",
    "for row in results:\n",
    "    print(row)"
   ]
  },
  {
   "cell_type": "markdown",
   "id": "6e6bf163",
   "metadata": {},
   "source": [
    "# Delete any unwanted records"
   ]
  },
  {
   "cell_type": "code",
   "execution_count": 23,
   "id": "c249b1b6",
   "metadata": {},
   "outputs": [
    {
     "data": {
      "text/plain": [
       "<sqlite3.Cursor at 0x22051767490>"
      ]
     },
     "execution_count": 23,
     "metadata": {},
     "output_type": "execute_result"
    }
   ],
   "source": [
    "cur.execute(\"delete from student where id=6\")"
   ]
  },
  {
   "cell_type": "code",
   "execution_count": 24,
   "id": "8e6066ac",
   "metadata": {},
   "outputs": [
    {
     "name": "stdout",
     "output_type": "stream",
     "text": [
      "(1, 'John', 92)\n",
      "(2, 'Teena', 92)\n",
      "(3, 'Andrew', 70)\n",
      "(4, 'Dorsey', 81)\n",
      "(5, 'David', 45)\n",
      "(7, 'Gim', 71)\n",
      "(8, 'Jack', 94)\n"
     ]
    }
   ],
   "source": [
    "results=cur.execute(\"select * from student\") \n",
    "\n",
    "for row in results:\n",
    "    print(row)"
   ]
  },
  {
   "cell_type": "markdown",
   "id": "7ccb089a",
   "metadata": {},
   "source": [
    "# DROP table student"
   ]
  },
  {
   "cell_type": "raw",
   "id": "10346982",
   "metadata": {},
   "source": [
    "Here entire table is deleted"
   ]
  },
  {
   "cell_type": "code",
   "execution_count": 25,
   "id": "858a935a",
   "metadata": {},
   "outputs": [
    {
     "data": {
      "text/plain": [
       "<sqlite3.Cursor at 0x22051767490>"
      ]
     },
     "execution_count": 25,
     "metadata": {},
     "output_type": "execute_result"
    }
   ],
   "source": [
    "cur.execute('drop table student')"
   ]
  },
  {
   "cell_type": "code",
   "execution_count": 26,
   "id": "6a92e8fe",
   "metadata": {},
   "outputs": [
    {
     "ename": "OperationalError",
     "evalue": "no such table: student",
     "output_type": "error",
     "traceback": [
      "\u001b[1;31m---------------------------------------------------------------------------\u001b[0m",
      "\u001b[1;31mOperationalError\u001b[0m                          Traceback (most recent call last)",
      "\u001b[1;32m<ipython-input-26-6cee0fe0434f>\u001b[0m in \u001b[0;36m<module>\u001b[1;34m\u001b[0m\n\u001b[1;32m----> 1\u001b[1;33m \u001b[0mresults\u001b[0m\u001b[1;33m=\u001b[0m\u001b[0mcur\u001b[0m\u001b[1;33m.\u001b[0m\u001b[0mexecute\u001b[0m\u001b[1;33m(\u001b[0m\u001b[1;34m\"select * from student\"\u001b[0m\u001b[1;33m)\u001b[0m\u001b[1;33m\u001b[0m\u001b[1;33m\u001b[0m\u001b[0m\n\u001b[0m\u001b[0;32m      2\u001b[0m \u001b[1;33m\u001b[0m\u001b[0m\n\u001b[0;32m      3\u001b[0m \u001b[1;32mfor\u001b[0m \u001b[0mrow\u001b[0m \u001b[1;32min\u001b[0m \u001b[0mresults\u001b[0m\u001b[1;33m:\u001b[0m\u001b[1;33m\u001b[0m\u001b[1;33m\u001b[0m\u001b[0m\n\u001b[0;32m      4\u001b[0m     \u001b[0mprint\u001b[0m\u001b[1;33m(\u001b[0m\u001b[0mrow\u001b[0m\u001b[1;33m)\u001b[0m\u001b[1;33m\u001b[0m\u001b[1;33m\u001b[0m\u001b[0m\n",
      "\u001b[1;31mOperationalError\u001b[0m: no such table: student"
     ]
    }
   ],
   "source": [
    "results=cur.execute(\"select * from student\") \n",
    "\n",
    "for row in results:\n",
    "    print(row)"
   ]
  },
  {
   "cell_type": "code",
   "execution_count": 27,
   "id": "5c00b57f",
   "metadata": {},
   "outputs": [],
   "source": [
    "#observation----> Table no longer exists."
   ]
  },
  {
   "cell_type": "code",
   "execution_count": 28,
   "id": "4f7003e3",
   "metadata": {},
   "outputs": [],
   "source": [
    "db.close()  #closing the database"
   ]
  },
  {
   "cell_type": "raw",
   "id": "443a170f",
   "metadata": {},
   "source": [
    "This is the entire life cycle of any data"
   ]
  },
  {
   "cell_type": "markdown",
   "id": "cf1ac85c",
   "metadata": {},
   "source": [
    "# Adding data in table with csv(comma separated values) directly"
   ]
  },
  {
   "cell_type": "code",
   "execution_count": 29,
   "id": "bbe14f51",
   "metadata": {},
   "outputs": [],
   "source": [
    "import sqlite3"
   ]
  },
  {
   "cell_type": "code",
   "execution_count": 31,
   "id": "d91850b1",
   "metadata": {},
   "outputs": [],
   "source": [
    "db=sqlite3.connect(\"E:/Python/scores_database.db\")\n",
    "cursor=db.cursor()  #Declare cursor"
   ]
  },
  {
   "cell_type": "code",
   "execution_count": 32,
   "id": "9c53b172",
   "metadata": {},
   "outputs": [
    {
     "data": {
      "text/plain": [
       "<sqlite3.Cursor at 0x2205177d730>"
      ]
     },
     "execution_count": 32,
     "metadata": {},
     "output_type": "execute_result"
    }
   ],
   "source": [
    "#Create table\n",
    "cursor.execute(\"Create table scores(gender text, student_id INT PRIMARY KEY,marks INT)\")"
   ]
  },
  {
   "cell_type": "code",
   "execution_count": 54,
   "id": "fcc6c88e",
   "metadata": {},
   "outputs": [],
   "source": [
    "#Insert records into table(single record inderting)\n",
    "cursor.execute(\"insert into scores(gender,student_id,marks) values('Male',100,66)\")\n",
    "\n",
    "db.commit()             #save the data permanently"
   ]
  },
  {
   "cell_type": "code",
   "execution_count": 47,
   "id": "6f0f9f0d",
   "metadata": {},
   "outputs": [
    {
     "data": {
      "text/plain": [
       "<sqlite3.Cursor at 0x2205177d730>"
      ]
     },
     "execution_count": 47,
     "metadata": {},
     "output_type": "execute_result"
    }
   ],
   "source": [
    "cursor.execute(\"delete from scores where student_id=100\")"
   ]
  },
  {
   "cell_type": "code",
   "execution_count": 48,
   "id": "85cb9535",
   "metadata": {},
   "outputs": [],
   "source": [
    "db.commit()"
   ]
  },
  {
   "cell_type": "markdown",
   "id": "73b6cdc8",
   "metadata": {},
   "source": [
    "# Inserting records from csv file"
   ]
  },
  {
   "cell_type": "code",
   "execution_count": 34,
   "id": "fe58026c",
   "metadata": {},
   "outputs": [],
   "source": [
    "#first we will be importing the csv file.\n",
    "#Then we will insert the data into the table scores inside the database scores_database.db."
   ]
  },
  {
   "cell_type": "code",
   "execution_count": 51,
   "id": "7bf9b498",
   "metadata": {},
   "outputs": [
    {
     "ename": "IntegrityError",
     "evalue": "UNIQUE constraint failed: scores.student_id",
     "output_type": "error",
     "traceback": [
      "\u001b[1;31m---------------------------------------------------------------------------\u001b[0m",
      "\u001b[1;31mIntegrityError\u001b[0m                            Traceback (most recent call last)",
      "\u001b[1;32m<ipython-input-51-f8a537a9ea97>\u001b[0m in \u001b[0;36m<module>\u001b[1;34m\u001b[0m\n\u001b[0;32m      2\u001b[0m     \u001b[0mtotal_records\u001b[0m\u001b[1;33m=\u001b[0m\u001b[1;36m0\u001b[0m\u001b[1;33m\u001b[0m\u001b[1;33m\u001b[0m\u001b[0m\n\u001b[0;32m      3\u001b[0m     \u001b[1;32mfor\u001b[0m \u001b[0mrow\u001b[0m \u001b[1;32min\u001b[0m \u001b[0mfile\u001b[0m\u001b[1;33m:\u001b[0m\u001b[1;33m\u001b[0m\u001b[1;33m\u001b[0m\u001b[0m\n\u001b[1;32m----> 4\u001b[1;33m         \u001b[0mcursor\u001b[0m\u001b[1;33m.\u001b[0m\u001b[0mexecute\u001b[0m\u001b[1;33m(\u001b[0m\u001b[1;34m\"insert into scores values(?,?,?)\"\u001b[0m\u001b[1;33m,\u001b[0m\u001b[0mrow\u001b[0m\u001b[1;33m.\u001b[0m\u001b[0msplit\u001b[0m\u001b[1;33m(\u001b[0m\u001b[1;34m\",\"\u001b[0m\u001b[1;33m)\u001b[0m\u001b[1;33m)\u001b[0m\u001b[1;33m\u001b[0m\u001b[1;33m\u001b[0m\u001b[0m\n\u001b[0m\u001b[0;32m      5\u001b[0m         \u001b[0mdb\u001b[0m\u001b[1;33m.\u001b[0m\u001b[0mcommit\u001b[0m\u001b[1;33m(\u001b[0m\u001b[1;33m)\u001b[0m\u001b[1;33m\u001b[0m\u001b[1;33m\u001b[0m\u001b[0m\n\u001b[0;32m      6\u001b[0m         \u001b[0mtotal_records\u001b[0m\u001b[1;33m+=\u001b[0m\u001b[1;36m1\u001b[0m\u001b[1;33m\u001b[0m\u001b[1;33m\u001b[0m\u001b[0m\n",
      "\u001b[1;31mIntegrityError\u001b[0m: UNIQUE constraint failed: scores.student_id"
     ]
    }
   ],
   "source": [
    "with open('scores_file.csv','r') as file:   #scores_file.csv is present in Home page\n",
    "    total_records=0\n",
    "    for row in file:                                                     #initiating a for loop\n",
    "        cursor.execute(\"insert into scores values(?,?,?)\",row.split(\",\")) #'scores' is the table name.\n",
    "        db.commit()                                                       # 3'?' correspond to 3 columns\n",
    "        total_records+=1\n",
    "print(total_records,\"Records inserted\")"
   ]
  },
  {
   "cell_type": "code",
   "execution_count": 55,
   "id": "7dcef85c",
   "metadata": {},
   "outputs": [
    {
     "name": "stdout",
     "output_type": "stream",
     "text": [
      "('Male', 101, 45)\n",
      "('Male', 105, 78)\n",
      "('Female', 106, 36)\n",
      "('Male', 107, 36)\n",
      "('Female', 108, 98)\n",
      "('Male', 109, 20)\n",
      "('Female', 110, 36)\n",
      "('Male', 111, 56)\n",
      "('Male', 112, 89)\n",
      "('Female', 114, 63)\n",
      "('Male', 115, 32)\n",
      "('Male', 117, 58)\n",
      "('Female', 119, 23)\n",
      "('Male', 100, 66)\n"
     ]
    }
   ],
   "source": [
    "result=cursor.execute(\"select * from scores\")\n",
    "for row in result:\n",
    "    print(row)"
   ]
  },
  {
   "cell_type": "code",
   "execution_count": 57,
   "id": "488bb4fe",
   "metadata": {},
   "outputs": [
    {
     "name": "stdout",
     "output_type": "stream",
     "text": [
      "('Female', 108, 98)\n",
      "('Male', 112, 89)\n",
      "('Male', 105, 78)\n",
      "('Male', 100, 66)\n",
      "('Female', 114, 63)\n",
      "('Male', 117, 58)\n",
      "('Male', 111, 56)\n",
      "('Male', 101, 45)\n",
      "('Female', 106, 36)\n",
      "('Male', 107, 36)\n",
      "('Female', 110, 36)\n",
      "('Male', 115, 32)\n",
      "('Female', 119, 23)\n",
      "('Male', 109, 20)\n"
     ]
    }
   ],
   "source": [
    "result=cursor.execute('select * from scores order by marks desc')\n",
    "for row in result:\n",
    "    print (row)"
   ]
  },
  {
   "cell_type": "code",
   "execution_count": 58,
   "id": "a9b9ae08",
   "metadata": {},
   "outputs": [
    {
     "name": "stdout",
     "output_type": "stream",
     "text": [
      "('Male', 100, 66)\n",
      "('Male', 101, 45)\n",
      "('Male', 105, 78)\n",
      "('Female', 106, 36)\n",
      "('Male', 107, 36)\n",
      "('Female', 108, 98)\n",
      "('Male', 109, 20)\n",
      "('Female', 110, 36)\n",
      "('Male', 111, 56)\n",
      "('Male', 112, 89)\n",
      "('Female', 114, 63)\n",
      "('Male', 115, 32)\n",
      "('Male', 117, 58)\n",
      "('Female', 119, 23)\n"
     ]
    }
   ],
   "source": [
    "result=cursor.execute('select * from scores order by student_id') #acsending by default\n",
    "for row in result:\n",
    "    print(row)"
   ]
  },
  {
   "cell_type": "code",
   "execution_count": 59,
   "id": "0878f13b",
   "metadata": {},
   "outputs": [
    {
     "data": {
      "text/plain": [
       "<sqlite3.Cursor at 0x2205177d730>"
      ]
     },
     "execution_count": 59,
     "metadata": {},
     "output_type": "execute_result"
    }
   ],
   "source": [
    "#single record update\n",
    "cursor.execute(\"update scores set marks=50 where student_id=107\")"
   ]
  },
  {
   "cell_type": "code",
   "execution_count": 60,
   "id": "f1955994",
   "metadata": {},
   "outputs": [
    {
     "name": "stdout",
     "output_type": "stream",
     "text": [
      "('Male', 101, 45)\n",
      "('Male', 105, 78)\n",
      "('Female', 106, 36)\n",
      "('Male', 107, 50)\n",
      "('Female', 108, 98)\n",
      "('Male', 109, 20)\n",
      "('Female', 110, 36)\n",
      "('Male', 111, 56)\n",
      "('Male', 112, 89)\n",
      "('Female', 114, 63)\n",
      "('Male', 115, 32)\n",
      "('Male', 117, 58)\n",
      "('Female', 119, 23)\n",
      "('Male', 100, 66)\n"
     ]
    }
   ],
   "source": [
    "result=cursor.execute('select * from scores ') #acsending by default\n",
    "for row in result:\n",
    "    print(row)"
   ]
  },
  {
   "cell_type": "code",
   "execution_count": 61,
   "id": "eb324a0a",
   "metadata": {},
   "outputs": [
    {
     "data": {
      "text/plain": [
       "(20,)"
      ]
     },
     "execution_count": 61,
     "metadata": {},
     "output_type": "execute_result"
    }
   ],
   "source": [
    "#min\n",
    "result=cursor.execute('select min(marks) from scores')\n",
    "result.fetchone()"
   ]
  },
  {
   "cell_type": "code",
   "execution_count": 62,
   "id": "8527356f",
   "metadata": {},
   "outputs": [
    {
     "data": {
      "text/plain": [
       "(98,)"
      ]
     },
     "execution_count": 62,
     "metadata": {},
     "output_type": "execute_result"
    }
   ],
   "source": [
    "#max\n",
    "result=cursor.execute('select max(marks) from scores')\n",
    "result.fetchone()"
   ]
  },
  {
   "cell_type": "code",
   "execution_count": 63,
   "id": "bf18a2a0",
   "metadata": {},
   "outputs": [],
   "source": [
    "db.close()"
   ]
  },
  {
   "cell_type": "raw",
   "id": "9f3e7365",
   "metadata": {},
   "source": [
    "Properties of primary key:-\n",
    "1. Unique:- Enter only unique values, no duplicate values\n",
    "2. Not null- no blank values can be inserted in the table."
   ]
  },
  {
   "cell_type": "markdown",
   "id": "7ef2f7a5",
   "metadata": {},
   "source": [
    "# Practice sql"
   ]
  },
  {
   "cell_type": "code",
   "execution_count": 70,
   "id": "0ef8bf50",
   "metadata": {},
   "outputs": [],
   "source": [
    "import sqlite3"
   ]
  },
  {
   "cell_type": "code",
   "execution_count": 71,
   "id": "93e6069f",
   "metadata": {},
   "outputs": [],
   "source": [
    "db=sqlite3.connect(\"E:/Python/sports_database.db\")"
   ]
  },
  {
   "cell_type": "code",
   "execution_count": 72,
   "id": "74ae6a80",
   "metadata": {},
   "outputs": [],
   "source": [
    "cur=db.cursor()"
   ]
  },
  {
   "cell_type": "code",
   "execution_count": 73,
   "id": "e35d321b",
   "metadata": {},
   "outputs": [
    {
     "data": {
      "text/plain": [
       "<sqlite3.Cursor at 0x2205179b110>"
      ]
     },
     "execution_count": 73,
     "metadata": {},
     "output_type": "execute_result"
    }
   ],
   "source": [
    "cur.execute(\"create table sport(id int primary key,sportname text unique,dateofevent date,country text not null)\")\n",
    "#The sportname must be unique in every column\n",
    "#The country name should not be null\n",
    "#dateofevent should be of 'date' datatype"
   ]
  },
  {
   "cell_type": "code",
   "execution_count": 75,
   "id": "3a93280c",
   "metadata": {},
   "outputs": [
    {
     "data": {
      "text/plain": [
       "<sqlite3.Cursor at 0x2205179b110>"
      ]
     },
     "execution_count": 75,
     "metadata": {},
     "output_type": "execute_result"
    }
   ],
   "source": [
    "cur.execute(\"insert into sport values(1,'Cricket','2021-11-9','England')\")"
   ]
  },
  {
   "cell_type": "code",
   "execution_count": 76,
   "id": "86057064",
   "metadata": {},
   "outputs": [
    {
     "ename": "IntegrityError",
     "evalue": "UNIQUE constraint failed: sport.sportname",
     "output_type": "error",
     "traceback": [
      "\u001b[1;31m---------------------------------------------------------------------------\u001b[0m",
      "\u001b[1;31mIntegrityError\u001b[0m                            Traceback (most recent call last)",
      "\u001b[1;32m<ipython-input-76-a642d163f5f3>\u001b[0m in \u001b[0;36m<module>\u001b[1;34m\u001b[0m\n\u001b[0;32m      1\u001b[0m \u001b[1;31m#we cannot enter same sports name again\u001b[0m\u001b[1;33m\u001b[0m\u001b[1;33m\u001b[0m\u001b[1;33m\u001b[0m\u001b[0m\n\u001b[1;32m----> 2\u001b[1;33m \u001b[0mcur\u001b[0m\u001b[1;33m.\u001b[0m\u001b[0mexecute\u001b[0m\u001b[1;33m(\u001b[0m\u001b[1;34m\"insert into sport values(2,'Cricket','2021-11-11','England')\"\u001b[0m\u001b[1;33m)\u001b[0m\u001b[1;33m\u001b[0m\u001b[1;33m\u001b[0m\u001b[0m\n\u001b[0m",
      "\u001b[1;31mIntegrityError\u001b[0m: UNIQUE constraint failed: sport.sportname"
     ]
    }
   ],
   "source": [
    "#we cannot enter same sports name again, because sports name must be unique.\n",
    "cur.execute(\"insert into sport values(2,'Cricket','2021-11-11','England')\")"
   ]
  },
  {
   "cell_type": "code",
   "execution_count": 77,
   "id": "8ca9f92a",
   "metadata": {},
   "outputs": [
    {
     "name": "stdout",
     "output_type": "stream",
     "text": [
      "1 record(s) inserted\n"
     ]
    }
   ],
   "source": [
    "cur.execute(\"insert into sport values(2,'Tennis','2018-08-02','Sri_Lanka')\")\n",
    "print(cur.rowcount,\"record(s) inserted\")"
   ]
  },
  {
   "cell_type": "code",
   "execution_count": 78,
   "id": "7d34e4d1",
   "metadata": {},
   "outputs": [
    {
     "data": {
      "text/plain": [
       "[(1, 'Cricket', '2021-11-9', 'England'),\n",
       " (2, 'Tennis', '2018-08-02', 'Sri_Lanka')]"
      ]
     },
     "execution_count": 78,
     "metadata": {},
     "output_type": "execute_result"
    }
   ],
   "source": [
    "results=cur.execute(\"select * from sport\")\n",
    "results.fetchall()"
   ]
  },
  {
   "cell_type": "code",
   "execution_count": 88,
   "id": "2648132e",
   "metadata": {},
   "outputs": [
    {
     "ename": "IntegrityError",
     "evalue": "NOT NULL constraint failed: sport.country",
     "output_type": "error",
     "traceback": [
      "\u001b[1;31m---------------------------------------------------------------------------\u001b[0m",
      "\u001b[1;31mIntegrityError\u001b[0m                            Traceback (most recent call last)",
      "\u001b[1;32m<ipython-input-88-bd2973650df7>\u001b[0m in \u001b[0;36m<module>\u001b[1;34m\u001b[0m\n\u001b[0;32m      1\u001b[0m \u001b[1;31m#Lets try to enter null value in country name\u001b[0m\u001b[1;33m\u001b[0m\u001b[1;33m\u001b[0m\u001b[1;33m\u001b[0m\u001b[0m\n\u001b[1;32m----> 2\u001b[1;33m \u001b[0mcur\u001b[0m\u001b[1;33m.\u001b[0m\u001b[0mexecute\u001b[0m\u001b[1;33m(\u001b[0m\u001b[1;34m\"insert into sport values(3,'Football','2022-05-30',NULL)\"\u001b[0m\u001b[1;33m)\u001b[0m\u001b[1;33m\u001b[0m\u001b[1;33m\u001b[0m\u001b[0m\n\u001b[0m\u001b[0;32m      3\u001b[0m \u001b[1;31m#Country name cannot be null\u001b[0m\u001b[1;33m\u001b[0m\u001b[1;33m\u001b[0m\u001b[1;33m\u001b[0m\u001b[0m\n",
      "\u001b[1;31mIntegrityError\u001b[0m: NOT NULL constraint failed: sport.country"
     ]
    }
   ],
   "source": [
    "#Lets try to enter null value in country name\n",
    "cur.execute(\"insert into sport values(3,'Football','2022-05-30',NULL)\")\n",
    "#Country name cannot be null"
   ]
  },
  {
   "cell_type": "code",
   "execution_count": 89,
   "id": "6998ab5c",
   "metadata": {},
   "outputs": [
    {
     "data": {
      "text/plain": [
       "<sqlite3.Cursor at 0x2205179b110>"
      ]
     },
     "execution_count": 89,
     "metadata": {},
     "output_type": "execute_result"
    }
   ],
   "source": [
    "cur.execute(\"insert into sport values(3,'Football','2022-05-30','Australia')\")"
   ]
  },
  {
   "cell_type": "code",
   "execution_count": 90,
   "id": "234b902e",
   "metadata": {},
   "outputs": [
    {
     "data": {
      "text/plain": [
       "[(1, 'Cricket', '2021-11-9', 'England'),\n",
       " (2, 'Tennis', '2018-08-02', 'Sri_Lanka'),\n",
       " (3, 'Football', '2022-05-30', 'Australia')]"
      ]
     },
     "execution_count": 90,
     "metadata": {},
     "output_type": "execute_result"
    }
   ],
   "source": [
    "results=cur.execute(\"select * from sport\")\n",
    "results.fetchall()"
   ]
  },
  {
   "cell_type": "markdown",
   "id": "60d7bfe8",
   "metadata": {},
   "source": [
    "# Employee database with DB and Python programmatically(by defining a function)"
   ]
  },
  {
   "cell_type": "code",
   "execution_count": 91,
   "id": "ca68f98e",
   "metadata": {},
   "outputs": [],
   "source": [
    "import sqlite3"
   ]
  },
  {
   "cell_type": "code",
   "execution_count": 92,
   "id": "d8f6c941",
   "metadata": {},
   "outputs": [],
   "source": [
    "con=sqlite3.connect(\"E:/Python/emp_database.db\") #con is variable containing the database"
   ]
  },
  {
   "cell_type": "code",
   "execution_count": 95,
   "id": "c92c6288",
   "metadata": {},
   "outputs": [],
   "source": [
    "def sql_table(con):\n",
    "    cur=con.cursor()\n",
    "    cur.execute(\"create table employees(id integer primary key, name text,salary real,department text,post text,dateofjoin date)\")\n",
    "    con.commit()"
   ]
  },
  {
   "cell_type": "code",
   "execution_count": 96,
   "id": "26650661",
   "metadata": {},
   "outputs": [],
   "source": [
    "#calling function\n",
    "\n",
    "sql_table(con)"
   ]
  },
  {
   "cell_type": "code",
   "execution_count": 97,
   "id": "4df05722",
   "metadata": {},
   "outputs": [
    {
     "data": {
      "text/plain": [
       "<sqlite3.Cursor at 0x2205177cf10>"
      ]
     },
     "execution_count": 97,
     "metadata": {},
     "output_type": "execute_result"
    }
   ],
   "source": [
    "cur=con.cursor()\n",
    "cur.execute(\"insert into employees values(1,'Jack',9000,'HR','Manager0','2019-07-09')\")"
   ]
  },
  {
   "cell_type": "code",
   "execution_count": 100,
   "id": "c08da8be",
   "metadata": {},
   "outputs": [],
   "source": [
    "con.commit;"
   ]
  },
  {
   "cell_type": "code",
   "execution_count": 112,
   "id": "a2d75db3",
   "metadata": {},
   "outputs": [
    {
     "data": {
      "text/plain": [
       "[(1, 'Jack', 9000.0, 'HR', 'Manager0', '2019-07-09')]"
      ]
     },
     "execution_count": 112,
     "metadata": {},
     "output_type": "execute_result"
    }
   ],
   "source": [
    "results=cur.execute(\"select * from employees\")\n",
    "results.fetchall()"
   ]
  },
  {
   "cell_type": "raw",
   "id": "72979488",
   "metadata": {},
   "source": [
    "We can also pass values/arguments to an INSERT statement in the execute() method. You can use the question mark(?) as a placeholder for each value."
   ]
  },
  {
   "cell_type": "code",
   "execution_count": 108,
   "id": "676ded51",
   "metadata": {},
   "outputs": [],
   "source": [
    "def sql_insert(con,entities):  #con,entities are the arguments. con is the variable containing the database.\n",
    "    cur=con.cursor()\n",
    "    cur.execute('insert into employees(id,name,salary,department,post,dateofjoin) values(?,?,?,?,?,?)',entities)"
   ]
  },
  {
   "cell_type": "code",
   "execution_count": 113,
   "id": "f8180554",
   "metadata": {},
   "outputs": [],
   "source": [
    "#calling the function with the entities.\n",
    "sql_insert(con,(2,'Andrew',7000,'IT','Engineer','2015-04-06'))"
   ]
  },
  {
   "cell_type": "code",
   "execution_count": 114,
   "id": "6e2a66cc",
   "metadata": {},
   "outputs": [
    {
     "data": {
      "text/plain": [
       "[(1, 'Jack', 9000.0, 'HR', 'Manager0', '2019-07-09'),\n",
       " (2, 'Andrew', 7000.0, 'IT', 'Engineer', '2015-04-06')]"
      ]
     },
     "execution_count": 114,
     "metadata": {},
     "output_type": "execute_result"
    }
   ],
   "source": [
    "results=cur.execute(\"select * from employees\")\n",
    "results.fetchall()"
   ]
  },
  {
   "cell_type": "code",
   "execution_count": 115,
   "id": "7511fcdb",
   "metadata": {},
   "outputs": [],
   "source": [
    "#calling sql again to insert the data\n",
    "sql_insert(con,(3,'Thomas',6000,'HR','Manager','2016-06-14'))"
   ]
  },
  {
   "cell_type": "code",
   "execution_count": 116,
   "id": "15d67685",
   "metadata": {},
   "outputs": [
    {
     "data": {
      "text/plain": [
       "[(1, 'Jack', 9000.0, 'HR', 'Manager0', '2019-07-09'),\n",
       " (2, 'Andrew', 7000.0, 'IT', 'Engineer', '2015-04-06'),\n",
       " (3, 'Thomas', 6000.0, 'HR', 'Manager', '2016-06-14')]"
      ]
     },
     "execution_count": 116,
     "metadata": {},
     "output_type": "execute_result"
    }
   ],
   "source": [
    "results=cur.execute(\"select * from employees\")\n",
    "results.fetchall()"
   ]
  },
  {
   "cell_type": "code",
   "execution_count": 117,
   "id": "97c9130f",
   "metadata": {},
   "outputs": [],
   "source": [
    "sql_insert(con,(4,'Rudolf',8000,'IT','Engineer','2012-08-23'))\n",
    "sql_insert(con,(5,'Suzen',10000,'Sales','Sales Executive','2018-02-19'))"
   ]
  },
  {
   "cell_type": "code",
   "execution_count": 118,
   "id": "3ff5794b",
   "metadata": {},
   "outputs": [
    {
     "data": {
      "text/plain": [
       "[(1, 'Jack', 9000.0, 'HR', 'Manager0', '2019-07-09'),\n",
       " (2, 'Andrew', 7000.0, 'IT', 'Engineer', '2015-04-06'),\n",
       " (3, 'Thomas', 6000.0, 'HR', 'Manager', '2016-06-14'),\n",
       " (4, 'Rudolf', 8000.0, 'IT', 'Engineer', '2012-08-23'),\n",
       " (5, 'Suzen', 10000.0, 'Sales', 'Sales Executive', '2018-02-19')]"
      ]
     },
     "execution_count": 118,
     "metadata": {},
     "output_type": "execute_result"
    }
   ],
   "source": [
    "results=cur.execute(\"select * from employees\")\n",
    "results.fetchall()"
   ]
  },
  {
   "cell_type": "code",
   "execution_count": 120,
   "id": "026ca9c4",
   "metadata": {},
   "outputs": [
    {
     "name": "stdout",
     "output_type": "stream",
     "text": [
      "(1, 'Jack')\n",
      "(2, 'Andrew')\n",
      "(3, 'Thomas')\n",
      "(4, 'Rudolf')\n",
      "(5, 'Suzen')\n"
     ]
    }
   ],
   "source": [
    "results=cur.execute('select id,name from employees')\n",
    "for i in results:\n",
    "    print(i)"
   ]
  },
  {
   "cell_type": "code",
   "execution_count": 122,
   "id": "ff232967",
   "metadata": {},
   "outputs": [
    {
     "data": {
      "text/plain": [
       "[(1, 'Jack'), (5, 'Suzen')]"
      ]
     },
     "execution_count": 122,
     "metadata": {},
     "output_type": "execute_result"
    }
   ],
   "source": [
    "results=cur.execute('select id,name from employees where salary>8000')\n",
    "results.fetchall()"
   ]
  },
  {
   "cell_type": "code",
   "execution_count": 124,
   "id": "6419c63f",
   "metadata": {},
   "outputs": [
    {
     "data": {
      "text/plain": [
       "[(6000.0,)]"
      ]
     },
     "execution_count": 124,
     "metadata": {},
     "output_type": "execute_result"
    }
   ],
   "source": [
    "results=cur.execute('select min(salary) from employees ')\n",
    "results.fetchall()"
   ]
  },
  {
   "cell_type": "code",
   "execution_count": 123,
   "id": "20cbfc95",
   "metadata": {},
   "outputs": [
    {
     "data": {
      "text/plain": [
       "[(9000.0,)]"
      ]
     },
     "execution_count": 123,
     "metadata": {},
     "output_type": "execute_result"
    }
   ],
   "source": [
    "results=cur.execute('select min(salary) from employees where salary>8000')\n",
    "results.fetchall()"
   ]
  },
  {
   "cell_type": "code",
   "execution_count": 125,
   "id": "d97be088",
   "metadata": {},
   "outputs": [
    {
     "data": {
      "text/plain": [
       "[(5,)]"
      ]
     },
     "execution_count": 125,
     "metadata": {},
     "output_type": "execute_result"
    }
   ],
   "source": [
    "#find the number of rows in the table\n",
    "results=cur.execute('select count(id) from employees')\n",
    "results.fetchall()"
   ]
  },
  {
   "cell_type": "code",
   "execution_count": 126,
   "id": "bc314799",
   "metadata": {},
   "outputs": [
    {
     "data": {
      "text/plain": [
       "[('HR',), ('IT',), ('Sales',)]"
      ]
     },
     "execution_count": 126,
     "metadata": {},
     "output_type": "execute_result"
    }
   ],
   "source": [
    "#Find the distinct datas present in a particular column.\n",
    "results=cur.execute(\"select distinct(department) from employees\")\n",
    "results.fetchall()"
   ]
  },
  {
   "cell_type": "code",
   "execution_count": 127,
   "id": "32ea8bb7",
   "metadata": {},
   "outputs": [
    {
     "data": {
      "text/plain": [
       "[(3,)]"
      ]
     },
     "execution_count": 127,
     "metadata": {},
     "output_type": "execute_result"
    }
   ],
   "source": [
    "#Count the distinct datas present in a particular column.\n",
    "results=cur.execute(\"select count(distinct(department)) from employees\")\n",
    "results.fetchall()"
   ]
  },
  {
   "cell_type": "code",
   "execution_count": 128,
   "id": "11d00e33",
   "metadata": {},
   "outputs": [
    {
     "data": {
      "text/plain": [
       "[(15000.0, 'Engineer'),\n",
       " (6000.0, 'Manager'),\n",
       " (9000.0, 'Manager0'),\n",
       " (10000.0, 'Sales Executive')]"
      ]
     },
     "execution_count": 128,
     "metadata": {},
     "output_type": "execute_result"
    }
   ],
   "source": [
    "#Find the sum of salaries for a particular department\n",
    "results=cur.execute(\"select sum(salary),post from employees group by post\") #sum(salary),post are the columns to be shown\n",
    "results.fetchall()"
   ]
  },
  {
   "cell_type": "code",
   "execution_count": 129,
   "id": "d5030b4f",
   "metadata": {},
   "outputs": [
    {
     "data": {
      "text/plain": [
       "[(15000.0, 'IT'), (6000.0, 'HR'), (9000.0, 'HR'), (10000.0, 'Sales')]"
      ]
     },
     "execution_count": 129,
     "metadata": {},
     "output_type": "execute_result"
    }
   ],
   "source": [
    "#Find the distinct datas present in a particular column.\n",
    "results=cur.execute(\"select sum(salary),department from employees group by post\") #sum(salary),department are the columns to be shown\n",
    "results.fetchall()"
   ]
  },
  {
   "cell_type": "code",
   "execution_count": null,
   "id": "dfb1d9e7",
   "metadata": {},
   "outputs": [],
   "source": []
  },
  {
   "cell_type": "code",
   "execution_count": null,
   "id": "b33f6cf2",
   "metadata": {},
   "outputs": [],
   "source": []
  },
  {
   "cell_type": "code",
   "execution_count": 130,
   "id": "4315136b",
   "metadata": {},
   "outputs": [],
   "source": [
    "def sql_query(sql):\n",
    "    cur=con.cursor()\n",
    "    results=cur.execute(sql)\n",
    "    return results         #return keyword is used so that we can store the outputs in a variable."
   ]
  },
  {
   "cell_type": "code",
   "execution_count": 131,
   "id": "cf5e3ff7",
   "metadata": {},
   "outputs": [
    {
     "data": {
      "text/plain": [
       "[(1, 'Jack', 9000.0, 'HR', 'Manager0', '2019-07-09'),\n",
       " (2, 'Andrew', 7000.0, 'IT', 'Engineer', '2015-04-06'),\n",
       " (3, 'Thomas', 6000.0, 'HR', 'Manager', '2016-06-14'),\n",
       " (4, 'Rudolf', 8000.0, 'IT', 'Engineer', '2012-08-23'),\n",
       " (5, 'Suzen', 10000.0, 'Sales', 'Sales Executive', '2018-02-19')]"
      ]
     },
     "execution_count": 131,
     "metadata": {},
     "output_type": "execute_result"
    }
   ],
   "source": [
    "#calling the function and passing query into it\n",
    "responds=sql_query(\"select * from employees\") #Here we are storing the output of the function in 'responds' variable.\n",
    "responds.fetchall()"
   ]
  },
  {
   "attachments": {
    "Capture.PNG": {
     "image/png": "[encoded data removed]"
    }
   },
   "cell_type": "markdown",
   "id": "acac7381",
   "metadata": {},
   "source": [
    "![Capture.PNG](attachment:Capture.PNG)"
   ]
  },
  {
   "cell_type": "code",
   "execution_count": null,
   "id": "751506c7",
   "metadata": {},
   "outputs": [],
   "source": []
  }
 ],
 "metadata": {
  "kernelspec": {
   "display_name": "Python 3",
   "language": "python",
   "name": "python3"
  },
  "language_info": {
   "codemirror_mode": {
    "name": "ipython",
    "version": 3
   },
   "file_extension": ".py",
   "mimetype": "text/x-python",
   "name": "python",
   "nbconvert_exporter": "python",
   "pygments_lexer": "ipython3",
   "version": "3.8.8"
  }
 },
 "nbformat": 4,
 "nbformat_minor": 5
}
