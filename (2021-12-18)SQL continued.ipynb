{
 "cells": [
  {
   "cell_type": "code",
   "execution_count": 1,
   "id": "0cac75f1",
   "metadata": {},
   "outputs": [],
   "source": [
    "import sqlite3"
   ]
  },
  {
   "cell_type": "code",
   "execution_count": 2,
   "id": "fcba9da6",
   "metadata": {},
   "outputs": [],
   "source": [
    "db=sqlite3.connect(\"student_database02.db\") #creating new database or connects to the database if it already exists."
   ]
  },
  {
   "cell_type": "code",
   "execution_count": 3,
   "id": "bec7276a",
   "metadata": {},
   "outputs": [],
   "source": [
    "cur=db.cursor() "
   ]
  },
  {
   "cell_type": "code",
   "execution_count": 4,
   "id": "a50ef8b5",
   "metadata": {},
   "outputs": [
    {
     "ename": "OperationalError",
     "evalue": "table student already exists",
     "output_type": "error",
     "traceback": [
      "\u001b[1;31m---------------------------------------------------------------------------\u001b[0m",
      "\u001b[1;31mOperationalError\u001b[0m                          Traceback (most recent call last)",
      "\u001b[1;32m<ipython-input-4-565810d43c71>\u001b[0m in \u001b[0;36m<module>\u001b[1;34m\u001b[0m\n\u001b[1;32m----> 1\u001b[1;33m \u001b[0mcur\u001b[0m\u001b[1;33m.\u001b[0m\u001b[0mexecute\u001b[0m\u001b[1;33m(\u001b[0m\u001b[1;34m\"create table student(id int primary key, name text, marks int)\"\u001b[0m\u001b[1;33m)\u001b[0m\u001b[1;33m\u001b[0m\u001b[1;33m\u001b[0m\u001b[0m\n\u001b[0m",
      "\u001b[1;31mOperationalError\u001b[0m: table student already exists"
     ]
    }
   ],
   "source": [
    "cur.execute(\"create table student(id int primary key, name text, marks int)\") "
   ]
  },
  {
   "cell_type": "code",
   "execution_count": 5,
   "id": "8497e524",
   "metadata": {},
   "outputs": [
    {
     "data": {
      "text/plain": [
       "<sqlite3.Cursor at 0x1835e03c810>"
      ]
     },
     "execution_count": 5,
     "metadata": {},
     "output_type": "execute_result"
    }
   ],
   "source": [
    "cur.execute(\"insert into student(id,name,marks) values(1,'John',90)\")"
   ]
  },
  {
   "cell_type": "code",
   "execution_count": 6,
   "id": "9391eb8b",
   "metadata": {},
   "outputs": [
    {
     "name": "stdout",
     "output_type": "stream",
     "text": [
      "(1, 'John', 90)\n"
     ]
    }
   ],
   "source": [
    "results=cur.execute(\"select * from student\") #  '*'selects all columns\n",
    "\n",
    "for row in results:\n",
    "    print(row)"
   ]
  },
  {
   "cell_type": "code",
   "execution_count": 7,
   "id": "c0c3d46e",
   "metadata": {},
   "outputs": [
    {
     "data": {
      "text/plain": [
       "<sqlite3.Cursor at 0x1835e03c810>"
      ]
     },
     "execution_count": 7,
     "metadata": {},
     "output_type": "execute_result"
    }
   ],
   "source": [
    "cur.execute(\"insert into student(id,name,marks) values(2,'Teena',100)\")"
   ]
  },
  {
   "cell_type": "code",
   "execution_count": 8,
   "id": "b44070e7",
   "metadata": {},
   "outputs": [
    {
     "data": {
      "text/plain": [
       "<sqlite3.Cursor at 0x1835e03c810>"
      ]
     },
     "execution_count": 8,
     "metadata": {},
     "output_type": "execute_result"
    }
   ],
   "source": [
    "cur.execute(\"insert into student(id,name,marks) values(3,'Andrew',70)\")"
   ]
  },
  {
   "cell_type": "code",
   "execution_count": 9,
   "id": "0619bccc",
   "metadata": {},
   "outputs": [
    {
     "data": {
      "text/plain": [
       "<sqlite3.Cursor at 0x1835e03c810>"
      ]
     },
     "execution_count": 9,
     "metadata": {},
     "output_type": "execute_result"
    }
   ],
   "source": [
    "cur.execute(\"insert into student(id,name,marks) values(4,'Dorsey',56)\")"
   ]
  },
  {
   "cell_type": "code",
   "execution_count": 10,
   "id": "07df9949",
   "metadata": {},
   "outputs": [
    {
     "data": {
      "text/plain": [
       "<sqlite3.Cursor at 0x1835e03c810>"
      ]
     },
     "execution_count": 10,
     "metadata": {},
     "output_type": "execute_result"
    }
   ],
   "source": [
    "cur.execute(\"insert into student(id,name,marks) values(5,'David',45)\")"
   ]
  },
  {
   "cell_type": "code",
   "execution_count": 11,
   "id": "ec0241dc",
   "metadata": {},
   "outputs": [
    {
     "data": {
      "text/plain": [
       "<sqlite3.Cursor at 0x1835e03c810>"
      ]
     },
     "execution_count": 11,
     "metadata": {},
     "output_type": "execute_result"
    }
   ],
   "source": [
    "cur.execute(\"insert into student(id,name,marks) values(6,'Kim',70)\")"
   ]
  },
  {
   "cell_type": "code",
   "execution_count": 12,
   "id": "3eadddd0",
   "metadata": {},
   "outputs": [
    {
     "data": {
      "text/plain": [
       "<sqlite3.Cursor at 0x1835e03c810>"
      ]
     },
     "execution_count": 12,
     "metadata": {},
     "output_type": "execute_result"
    }
   ],
   "source": [
    "cur.execute(\"insert into student values(7,'Gim',71)\")"
   ]
  },
  {
   "cell_type": "code",
   "execution_count": 13,
   "id": "42450a20",
   "metadata": {},
   "outputs": [
    {
     "data": {
      "text/plain": [
       "<sqlite3.Cursor at 0x1835e03c810>"
      ]
     },
     "execution_count": 13,
     "metadata": {},
     "output_type": "execute_result"
    }
   ],
   "source": [
    "cur.execute(\"insert into student values(8,'Jack',94)\")"
   ]
  },
  {
   "cell_type": "code",
   "execution_count": 15,
   "id": "8d42869b",
   "metadata": {},
   "outputs": [
    {
     "data": {
      "text/plain": [
       "<function Connection.commit>"
      ]
     },
     "execution_count": 15,
     "metadata": {},
     "output_type": "execute_result"
    }
   ],
   "source": [
    "db.commit"
   ]
  },
  {
   "cell_type": "code",
   "execution_count": 24,
   "id": "276a6cd8",
   "metadata": {},
   "outputs": [
    {
     "name": "stdout",
     "output_type": "stream",
     "text": [
      "(1, 'John', 90)\n",
      "(2, 'Teena', 100)\n",
      "(3, 'Andrew', 70)\n",
      "(4, 'Dorsey', 56)\n",
      "(5, 'David', 45)\n",
      "(6, 'Kim', 70)\n",
      "(7, 'Gim', 71)\n",
      "(8, 'Jack', 94)\n"
     ]
    }
   ],
   "source": [
    "results=cur.execute(\"select * from student\") # '*' selects all the columns\n",
    "\n",
    "for row in results:\n",
    "    print(row)"
   ]
  },
  {
   "cell_type": "markdown",
   "id": "866c01b7",
   "metadata": {},
   "source": [
    "# Accessing data stored in SQL lite using python"
   ]
  },
  {
   "cell_type": "code",
   "execution_count": 25,
   "id": "77581b8c",
   "metadata": {},
   "outputs": [
    {
     "name": "stdout",
     "output_type": "stream",
     "text": [
      "(1, 'John')\n",
      "(2, 'Teena')\n",
      "(3, 'Andrew')\n",
      "(4, 'Dorsey')\n",
      "(5, 'David')\n",
      "(6, 'Kim')\n",
      "(7, 'Gim')\n",
      "(8, 'Jack')\n"
     ]
    }
   ],
   "source": [
    "results=cur.execute('Select id,name from student') #Selecting only two columns id and name\n",
    "for i in results:\n",
    "    print(i)"
   ]
  },
  {
   "cell_type": "code",
   "execution_count": 31,
   "id": "de9a5a33",
   "metadata": {},
   "outputs": [
    {
     "name": "stdout",
     "output_type": "stream",
     "text": [
      "(1, 'John', 90)\n"
     ]
    }
   ],
   "source": [
    "results=cur.execute('Select * from student where id=1') #Taking out only one row.\n",
    "for i in results:\n",
    "    print(i)"
   ]
  },
  {
   "cell_type": "code",
   "execution_count": 32,
   "id": "b0f677bf",
   "metadata": {},
   "outputs": [
    {
     "name": "stdout",
     "output_type": "stream",
     "text": [
      "(2, 'Teena', 100)\n"
     ]
    }
   ],
   "source": [
    "results=cur.execute('Select * from student where id=2') #Taking out only one row.\n",
    "for i in results:\n",
    "    print(i)"
   ]
  },
  {
   "cell_type": "code",
   "execution_count": 36,
   "id": "3901e1b4",
   "metadata": {},
   "outputs": [
    {
     "name": "stdout",
     "output_type": "stream",
     "text": [
      "(1, 'John', 90)\n",
      "(2, 'Teena', 100)\n",
      "(3, 'Andrew', 70)\n"
     ]
    }
   ],
   "source": [
    "results=cur.execute('Select * from student limit 3') #Show the 3 upper data\n",
    "for i in results:\n",
    "    print(i)"
   ]
  },
  {
   "cell_type": "code",
   "execution_count": 40,
   "id": "30d0f223",
   "metadata": {},
   "outputs": [
    {
     "name": "stdout",
     "output_type": "stream",
     "text": [
      "(1, 'John', 90)\n"
     ]
    }
   ],
   "source": [
    "results=cur.execute(\"Select * from student where name='John'\")  #search a row with a data present in the row\n",
    "for i in results:\n",
    "    print(i)\n",
    "#Here we can get multiple rows as output if there are more rows with name='John'"
   ]
  },
  {
   "cell_type": "code",
   "execution_count": 41,
   "id": "4a1f7a31",
   "metadata": {},
   "outputs": [
    {
     "name": "stdout",
     "output_type": "stream",
     "text": [
      "(1, 'John', 90)\n",
      "(2, 'Teena', 100)\n",
      "(3, 'Andrew', 70)\n",
      "(6, 'Kim', 70)\n",
      "(7, 'Gim', 71)\n",
      "(8, 'Jack', 94)\n"
     ]
    }
   ],
   "source": [
    "results=cur.execute(\"Select * from student where marks>60\") #show all rows with marks>60\n",
    "for i in results:\n",
    "    print(i)"
   ]
  },
  {
   "cell_type": "code",
   "execution_count": null,
   "id": "7c27dd1f",
   "metadata": {},
   "outputs": [],
   "source": [
    "results=cur.execute(\"Select * from student where marks>60 and marks<90\") #show all rows with marks>60 and marks<90\n",
    "for i in results:\n",
    "    print(i)\n",
    "#both the conditions needs to be true when 'and' statement is present"
   ]
  },
  {
   "cell_type": "code",
   "execution_count": 42,
   "id": "725b802b",
   "metadata": {},
   "outputs": [
    {
     "name": "stdout",
     "output_type": "stream",
     "text": [
      "(4, 'Dorsey', 56)\n",
      "(5, 'David', 45)\n"
     ]
    }
   ],
   "source": [
    "results=cur.execute(\"Select * from student where marks>40 and marks<60\") #show all rows with marks>60 and marks<90\n",
    "for i in results:\n",
    "    print(i)\n",
    "#both the conditions needs to be true when 'and' statement is present"
   ]
  },
  {
   "cell_type": "code",
   "execution_count": 43,
   "id": "95da0f7e",
   "metadata": {},
   "outputs": [
    {
     "data": {
      "text/plain": [
       "[(1, 'John', 90),\n",
       " (2, 'Teena', 100),\n",
       " (3, 'Andrew', 70),\n",
       " (4, 'Dorsey', 56),\n",
       " (5, 'David', 45),\n",
       " (6, 'Kim', 70),\n",
       " (7, 'Gim', 71),\n",
       " (8, 'Jack', 94)]"
      ]
     },
     "execution_count": 43,
     "metadata": {},
     "output_type": "execute_result"
    }
   ],
   "source": [
    "#fetchall will display all rows\n",
    "results=cur.execute('Select * from student') #selecting all columns present\n",
    "results.fetchall()"
   ]
  },
  {
   "cell_type": "code",
   "execution_count": 44,
   "id": "316270a6",
   "metadata": {},
   "outputs": [
    {
     "name": "stdout",
     "output_type": "stream",
     "text": [
      "(3, 'Andrew', 70)\n",
      "(5, 'David', 45)\n",
      "(4, 'Dorsey', 56)\n",
      "(7, 'Gim', 71)\n",
      "(8, 'Jack', 94)\n",
      "(1, 'John', 90)\n",
      "(6, 'Kim', 70)\n",
      "(2, 'Teena', 100)\n"
     ]
    }
   ],
   "source": [
    "#Show all rows with names in acsending order\n",
    "results=cur.execute(\"Select * from student order by name asc\")\n",
    "for i in results:\n",
    "    print(i)\n"
   ]
  },
  {
   "cell_type": "code",
   "execution_count": 47,
   "id": "1fc23fa9",
   "metadata": {},
   "outputs": [
    {
     "data": {
      "text/plain": [
       "[(2, 'Teena', 100),\n",
       " (6, 'Kim', 70),\n",
       " (1, 'John', 90),\n",
       " (8, 'Jack', 94),\n",
       " (7, 'Gim', 71),\n",
       " (4, 'Dorsey', 56),\n",
       " (5, 'David', 45),\n",
       " (3, 'Andrew', 70)]"
      ]
     },
     "execution_count": 47,
     "metadata": {},
     "output_type": "execute_result"
    }
   ],
   "source": [
    "#Show all rows with names in descending order\n",
    "results=cur.execute(\"Select * from student order by name desc\")\n",
    "results.fetchall()"
   ]
  },
  {
   "cell_type": "code",
   "execution_count": null,
   "id": "de7b391e",
   "metadata": {},
   "outputs": [],
   "source": []
  },
  {
   "cell_type": "markdown",
   "id": "d0287f99",
   "metadata": {},
   "source": [
    "AND operator"
   ]
  },
  {
   "cell_type": "raw",
   "id": "4a9cbff7",
   "metadata": {},
   "source": [
    "In 'AND' operation both the statements should be true."
   ]
  },
  {
   "cell_type": "code",
   "execution_count": 48,
   "id": "25bf24e6",
   "metadata": {},
   "outputs": [
    {
     "data": {
      "text/plain": [
       "[(5, 'David', 45)]"
      ]
     },
     "execution_count": 48,
     "metadata": {},
     "output_type": "execute_result"
    }
   ],
   "source": [
    "resluts=cur.execute(\"Select * from student where name='David' and marks=45\")\n",
    "resluts.fetchall()"
   ]
  },
  {
   "cell_type": "code",
   "execution_count": 50,
   "id": "4aa51604",
   "metadata": {},
   "outputs": [
    {
     "data": {
      "text/plain": [
       "[]"
      ]
     },
     "execution_count": 50,
     "metadata": {},
     "output_type": "execute_result"
    }
   ],
   "source": [
    "resluts=cur.execute(\"Select * from student where id=2 and marks=45\")\n",
    "resluts.fetchall()\n",
    "\n",
    "#since both conditions are not true, it is showing a vacant list."
   ]
  },
  {
   "cell_type": "markdown",
   "id": "2765b944",
   "metadata": {},
   "source": [
    "OR operator"
   ]
  },
  {
   "cell_type": "raw",
   "id": "a5fda0a6",
   "metadata": {},
   "source": [
    "Only one condition needs to be true"
   ]
  },
  {
   "cell_type": "code",
   "execution_count": 51,
   "id": "bf8539ee",
   "metadata": {},
   "outputs": [
    {
     "data": {
      "text/plain": [
       "[(2, 'Teena', 100), (5, 'David', 45)]"
      ]
     },
     "execution_count": 51,
     "metadata": {},
     "output_type": "execute_result"
    }
   ],
   "source": [
    "resluts=cur.execute(\"Select * from student where id=2 or marks=45\")\n",
    "resluts.fetchall()"
   ]
  },
  {
   "cell_type": "code",
   "execution_count": 52,
   "id": "d52c951d",
   "metadata": {},
   "outputs": [
    {
     "data": {
      "text/plain": [
       "[(4, 'Dorsey', 56)]"
      ]
     },
     "execution_count": 52,
     "metadata": {},
     "output_type": "execute_result"
    }
   ],
   "source": [
    "resluts=cur.execute(\"Select * from student where id=4 or marks=56\")\n",
    "resluts.fetchall()"
   ]
  },
  {
   "cell_type": "code",
   "execution_count": 54,
   "id": "3aab48a0",
   "metadata": {},
   "outputs": [
    {
     "name": "stdout",
     "output_type": "stream",
     "text": [
      "(2, 'Teena', 100)\n",
      "(3, 'Andrew', 70)\n",
      "(6, 'Kim', 70)\n"
     ]
    }
   ],
   "source": [
    "resluts=cur.execute(\"Select * from student where id=2 or marks=70\")\n",
    "for i in results:\n",
    "    print(i)"
   ]
  },
  {
   "cell_type": "code",
   "execution_count": null,
   "id": "b26f5f43",
   "metadata": {},
   "outputs": [],
   "source": [
    "MIN-- find minimum\n",
    "MAX-- find maximum\n",
    "AVG-- find average\n",
    "SUM-- find sum\n",
    "COUNT-- count the number of rows"
   ]
  },
  {
   "cell_type": "code",
   "execution_count": 55,
   "id": "4f6b40bf",
   "metadata": {},
   "outputs": [
    {
     "name": "stdout",
     "output_type": "stream",
     "text": [
      "(45,)\n"
     ]
    }
   ],
   "source": [
    "#Find out the minimum marks using this command.\n",
    "results=cur.execute('select min(marks) from student')\n",
    "\n",
    "for i in results:\n",
    "    print(i)"
   ]
  },
  {
   "cell_type": "code",
   "execution_count": 59,
   "id": "91f277ab",
   "metadata": {},
   "outputs": [
    {
     "data": {
      "text/plain": [
       "(5, 'David', 45)"
      ]
     },
     "execution_count": 59,
     "metadata": {},
     "output_type": "execute_result"
    }
   ],
   "source": [
    "#The find out the rows of the students who got minimum marks\n",
    "results=cur.execute('select * from student where marks=45')\n",
    "results.fetchone()"
   ]
  },
  {
   "cell_type": "code",
   "execution_count": null,
   "id": "21f6024a",
   "metadata": {},
   "outputs": [],
   "source": [
    "# .fetchone can be used instead of .fetchall when we know that we will get only one row as output"
   ]
  },
  {
   "cell_type": "code",
   "execution_count": 60,
   "id": "e514c0c5",
   "metadata": {},
   "outputs": [
    {
     "name": "stdout",
     "output_type": "stream",
     "text": [
      "(100,)\n"
     ]
    }
   ],
   "source": [
    "#Find out the maximum marks using this command\n",
    "results=cur.execute('select max(marks) from student')\n",
    "\n",
    "for i in results:\n",
    "    print(i)"
   ]
  },
  {
   "cell_type": "code",
   "execution_count": 61,
   "id": "17d1fa2e",
   "metadata": {},
   "outputs": [
    {
     "data": {
      "text/plain": [
       "(2, 'Teena', 100)"
      ]
     },
     "execution_count": 61,
     "metadata": {},
     "output_type": "execute_result"
    }
   ],
   "source": [
    "#The find out the rows of the students who got maximum marks\n",
    "results=cur.execute('select * from student where marks=100')\n",
    "results.fetchone()"
   ]
  },
  {
   "cell_type": "code",
   "execution_count": 62,
   "id": "501f7baf",
   "metadata": {},
   "outputs": [
    {
     "data": {
      "text/plain": [
       "[(3, 'Andrew', 70), (6, 'Kim', 70), (7, 'Gim', 71)]"
      ]
     },
     "execution_count": 62,
     "metadata": {},
     "output_type": "execute_result"
    }
   ],
   "source": [
    "#between operator\n",
    "results=cur.execute(\"select * from student where marks between 65 and 85\")\n",
    "results.fetchall()"
   ]
  },
  {
   "cell_type": "code",
   "execution_count": 63,
   "id": "f58fe1d4",
   "metadata": {},
   "outputs": [],
   "source": [
    "#Show a row with null data\n",
    "results=cur.execute(\"select * from student where marks is null\")\n",
    "for i in results:\n",
    "    print(i)"
   ]
  },
  {
   "cell_type": "code",
   "execution_count": null,
   "id": "047174b7",
   "metadata": {},
   "outputs": [],
   "source": []
  },
  {
   "cell_type": "code",
   "execution_count": 64,
   "id": "62b9e1da",
   "metadata": {},
   "outputs": [
    {
     "name": "stdout",
     "output_type": "stream",
     "text": [
      "(1, 'John', 90)\n",
      "(2, 'Teena', 100)\n",
      "(3, 'Andrew', 70)\n",
      "(4, 'Dorsey', 56)\n",
      "(5, 'David', 45)\n",
      "(6, 'Kim', 70)\n",
      "(7, 'Gim', 71)\n",
      "(8, 'Jack', 94)\n"
     ]
    }
   ],
   "source": [
    "#Show the rows which donot contain null data.\n",
    "results=cur.execute(\"select * from student where marks is not null\")\n",
    "for i in results:\n",
    "    print(i)"
   ]
  },
  {
   "cell_type": "markdown",
   "id": "b4cb05ab",
   "metadata": {},
   "source": [
    "LIKE operator"
   ]
  },
  {
   "cell_type": "code",
   "execution_count": 65,
   "id": "a1e3b0a8",
   "metadata": {},
   "outputs": [
    {
     "name": "stdout",
     "output_type": "stream",
     "text": [
      "(4, 'Dorsey', 56)\n",
      "(5, 'David', 45)\n"
     ]
    }
   ],
   "source": [
    "#Show the data of persons where name starts with 'D'\n",
    "results=cur.execute('select * from student where name like \"D%\"') \n",
    "for i in results:\n",
    "    print(i)"
   ]
  },
  {
   "cell_type": "code",
   "execution_count": 66,
   "id": "a8d6e6f7",
   "metadata": {},
   "outputs": [
    {
     "name": "stdout",
     "output_type": "stream",
     "text": [
      "(1, 'John', 90)\n",
      "(8, 'Jack', 94)\n"
     ]
    }
   ],
   "source": [
    "results=cur.execute('select * from student where name like \"J%\"') \n",
    "for i in results:\n",
    "    print(i)"
   ]
  },
  {
   "cell_type": "code",
   "execution_count": 67,
   "id": "9888f73c",
   "metadata": {},
   "outputs": [
    {
     "name": "stdout",
     "output_type": "stream",
     "text": [
      "(5, 'David', 45)\n",
      "(8, 'Jack', 94)\n"
     ]
    }
   ],
   "source": [
    "#Show the data where the second character in name is 'a'\n",
    "results=cur.execute('select * from student where name like \"_a%\"')\n",
    "for i in results:\n",
    "    print(i)"
   ]
  },
  {
   "cell_type": "code",
   "execution_count": 68,
   "id": "03cd1181",
   "metadata": {},
   "outputs": [
    {
     "name": "stdout",
     "output_type": "stream",
     "text": [
      "(6, 'Kim', 70)\n",
      "(7, 'Gim', 71)\n"
     ]
    }
   ],
   "source": [
    "#show the data where the name ends with 'm'\n",
    "results=cur.execute('select * from student where name like \"%m\"')\n",
    "for i in results:\n",
    "    print(i)"
   ]
  },
  {
   "cell_type": "code",
   "execution_count": 69,
   "id": "a899bfc1",
   "metadata": {},
   "outputs": [
    {
     "name": "stdout",
     "output_type": "stream",
     "text": [
      "(2, 'Teena', 100)\n",
      "(3, 'Andrew', 70)\n",
      "(4, 'Dorsey', 56)\n"
     ]
    }
   ],
   "source": [
    "#show the data where the name contains 'e'\n",
    "results=cur.execute(\"select * from student where name like '%e%'\")\n",
    "for i in results:\n",
    "    print(i)"
   ]
  },
  {
   "cell_type": "code",
   "execution_count": 70,
   "id": "75fea2a1",
   "metadata": {},
   "outputs": [
    {
     "name": "stdout",
     "output_type": "stream",
     "text": [
      "(1, 'John', 90)\n",
      "(8, 'Jack', 94)\n"
     ]
    }
   ],
   "source": [
    "#display only 4 letter names\n",
    "results=cur.execute(\"select * from student where name like '____'\")#four time underscore\n",
    "for i in results:\n",
    "    print(i)"
   ]
  },
  {
   "cell_type": "code",
   "execution_count": 76,
   "id": "21dd6a37",
   "metadata": {},
   "outputs": [
    {
     "name": "stdout",
     "output_type": "stream",
     "text": [
      "(1, 'John', 90)\n",
      "(2, 'Teena', 100)\n",
      "(4, 'Dorsey', 56)\n",
      "(5, 'David', 45)\n",
      "(7, 'Gim', 71)\n",
      "(8, 'Jack', 94)\n"
     ]
    }
   ],
   "source": [
    "#show the rows where marks is not 70\n",
    "results=cur.execute(\"select * from student where marks NOT in (70)\")\n",
    "for i in results:\n",
    "    print(i)"
   ]
  },
  {
   "cell_type": "code",
   "execution_count": 77,
   "id": "f5fc517f",
   "metadata": {},
   "outputs": [
    {
     "name": "stdout",
     "output_type": "stream",
     "text": [
      "(1, 'John', 90)\n",
      "(2, 'Teena', 100)\n",
      "(3, 'Andrew', 70)\n",
      "(4, 'Dorsey', 56)\n",
      "(5, 'David', 45)\n",
      "(6, 'Kim', 70)\n",
      "(7, 'Gim', 71)\n",
      "(8, 'Jack', 94)\n"
     ]
    }
   ],
   "source": [
    "#show the rows where name is not Kim\n",
    "results=cur.execute(\"select * from student where marks NOT in ('Kim')\")\n",
    "for i in results:\n",
    "    print(i)"
   ]
  },
  {
   "cell_type": "code",
   "execution_count": null,
   "id": "ac5d1677",
   "metadata": {},
   "outputs": [],
   "source": []
  },
  {
   "cell_type": "code",
   "execution_count": null,
   "id": "d19176a6",
   "metadata": {},
   "outputs": [],
   "source": []
  },
  {
   "cell_type": "code",
   "execution_count": null,
   "id": "62c2f994",
   "metadata": {},
   "outputs": [],
   "source": []
  },
  {
   "cell_type": "code",
   "execution_count": null,
   "id": "e8cf23d1",
   "metadata": {},
   "outputs": [],
   "source": []
  }
 ],
 "metadata": {
  "kernelspec": {
   "display_name": "Python 3",
   "language": "python",
   "name": "python3"
  },
  "language_info": {
   "codemirror_mode": {
    "name": "ipython",
    "version": 3
   },
   "file_extension": ".py",
   "mimetype": "text/x-python",
   "name": "python",
   "nbconvert_exporter": "python",
   "pygments_lexer": "ipython3",
   "version": "3.8.8"
  }
 },
 "nbformat": 4,
 "nbformat_minor": 5
}
